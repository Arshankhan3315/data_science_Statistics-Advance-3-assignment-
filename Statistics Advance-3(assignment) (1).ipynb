{
 "cells": [
  {
   "cell_type": "markdown",
   "id": "c387d835-b2fa-43af-a368-bbb3d92b3d87",
   "metadata": {},
   "source": [
    "# Statistics Advance-3 Assignment"
   ]
  },
  {
   "cell_type": "markdown",
   "id": "4a2ee202-4ff7-4756-8619-6aed6100e6f3",
   "metadata": {},
   "source": [
    "# Q1: What is Estimation Statistics? Explain point estimate and interval estimate."
   ]
  },
  {
   "cell_type": "markdown",
   "id": "ff45215a-be2f-4e4d-9453-13ac916a544a",
   "metadata": {},
   "source": [
    "# Answer-1-Estimation statistics involves using sample data to make inferences or estimates about unknown population parameters. These estimates provide valuable information about the population based on the information available in the sample. Two common forms of estimation in statistics are point estimation and interval estimation.\n",
    "\n",
    "# Point Estimate:A point estimate is a single numerical value that serves as the best estimate for an unknown population parameter. It is typically derived from the sample data and represents the \"best guess\" for the parameter of interest.\n",
    "# For example, using the sample mean (ˉxˉ) as an estimate of the population mean (μ) is a point estimate.\n",
    "# Interval Estimate:An interval estimate is a range of values within which the population parameter is likely to fall, with a certain level of confidence. It provides a range of possible values rather than a single point, allowing for uncertainty in the estimate.\n",
    "# Interval estimates are often expressed as a confidence interval (CI), which is a range of values with an associated confidence level (e.g., 95% confidence interval)."
   ]
  },
  {
   "cell_type": "markdown",
   "id": "60a99802-5eb7-43f1-adbe-4a3dcfe06f86",
   "metadata": {},
   "source": [
    "# Q2. Write a Python function to estimate the population mean using a sample mean and standard deviation."
   ]
  },
  {
   "cell_type": "code",
   "execution_count": 1,
   "id": "7545dee6-35e8-4ec8-b294-10ea34b80f04",
   "metadata": {},
   "outputs": [],
   "source": [
    "def estimate_population_mean(sample_mean):\n",
    "    return sample_mean"
   ]
  },
  {
   "cell_type": "code",
   "execution_count": 2,
   "id": "b1cbbba2-75ff-4dd9-80f8-78235eb5a6ab",
   "metadata": {},
   "outputs": [
    {
     "name": "stdout",
     "output_type": "stream",
     "text": [
      "Estimated Population Mean: 25.6\n"
     ]
    }
   ],
   "source": [
    "sample_mean = 25.6 \n",
    "estimated_mean = estimate_population_mean(sample_mean)\n",
    "print(\"Estimated Population Mean:\", estimated_mean)"
   ]
  },
  {
   "cell_type": "markdown",
   "id": "044d2b97-0e94-415f-88f2-631f99a35eb0",
   "metadata": {},
   "source": [
    "# Q3: What is Hypothesis testing? Why is it used? State the importance of Hypothesis testing."
   ]
  },
  {
   "cell_type": "markdown",
   "id": "846ed883-93d2-4e01-bdc3-e5ccc6ec7363",
   "metadata": {},
   "source": [
    "# Answer-3-Hypothesis testing is a fundamental statistical technique used to make decisions or draw inferences about a population based on a sample of data. It involves formulating two competing hypotheses, the null hypothesis (0H 0) and the alternative hypothesis (1H 1 or H a), and collecting evidence to determine which hypothesis is more supported by the data.\n",
    "\n",
    "# Here's a brief explanation of the two main hypotheses:\n",
    "\n",
    "# Null Hypothesis (0H 0): Represents the statement of no effect, no difference, or no relationship in the population. It is the hypothesis to be tested and typically assumes there is no significant effect or relationship in the data.\n",
    "# Alternative Hypothesis (1H1orHa): Represents the statement that contradicts the null hypothesis. It suggests that there is a significant effect, difference, or relationship in the population.\n",
    "# The goal of hypothesis testing is to evaluate the strength of evidence against the null hypothesis in favor of the alternative hypothesis. This is done by comparing the observed sample data with what would be expected under the assumption of the null hypothesis.\n",
    "\n",
    "# Steps in Hypothesis Testing:Formulate Hypotheses: Define the null and alternative hypotheses based on the research question. Collect Data: Obtain a sample of data relevant to the hypothesis being tested.Calculate Test Statistic: Compute a test statistic that summarizes the data and measures how well it aligns with the null hypothesis. Determine Significance Level (α): Choose a significance level (α) which represents the probability of rejecting the null hypothesis when it is true. Compare Test Statistic with Critical Value or P-value: Compare the test statistic with a critical value from a statistical distribution or calculate the p-value associated with the observed data.Make a Decision: Based on the comparison, either reject or fail to reject the null hypothesis. If the p-value is less than or equal to α, reject the null hypothesis in favor of the alternative hypothesis."
   ]
  },
  {
   "cell_type": "markdown",
   "id": "5224cdd7-80c1-4f2a-b1ca-2efafb7f0c01",
   "metadata": {},
   "source": [
    "# Q4. Create a hypothesis that states whether the average weight of male college students is greater than the average weight of female college students."
   ]
  },
  {
   "cell_type": "markdown",
   "id": "32c9cc1e-3404-4cf1-8a8e-881445ae1aaa",
   "metadata": {},
   "source": [
    "# Answer-4-To create a hypothesis comparing the average weight of male and female college students, we'll formulate the null hypothesis (0H 0) and the alternative hypothesis (1H 1or H a).\n",
    "\n",
    "# Null Hypothesis (0H):The null hypothesis states that there is no significant difference in the average weight between male and female college students."
   ]
  },
  {
   "cell_type": "markdown",
   "id": "51a2f154-3ddd-4c9c-a915-81ce953a9288",
   "metadata": {},
   "source": [
    "# Q5. Write a Python script to conduct a hypothesis test on the difference between two population means, given a sample from each population."
   ]
  },
  {
   "cell_type": "code",
   "execution_count": 3,
   "id": "b9477b78-4c96-420d-b9fe-ecaa2fe7b39c",
   "metadata": {},
   "outputs": [],
   "source": [
    "import numpy as np\n",
    "from scipy import stats"
   ]
  },
  {
   "cell_type": "code",
   "execution_count": 4,
   "id": "2642df66-ae3b-4fec-a2a6-e677d6a8f12f",
   "metadata": {},
   "outputs": [],
   "source": [
    "def conduct_t_test(sample1, sample2):\n",
    "    t_statistic, p_value = stats.ttest_ind(sample1, sample2)\n",
    "    return t_statistic, p_value"
   ]
  },
  {
   "cell_type": "code",
   "execution_count": 5,
   "id": "f735c047-61a7-4c8f-944e-045973e8531b",
   "metadata": {},
   "outputs": [],
   "source": [
    "np.random.seed(0)  \n",
    "sample_size = 30  \n",
    "population1 = np.random.normal(loc=75, scale=10, size=sample_size)  # Population 1 data\n",
    "population2 = np.random.normal(loc=70, scale=12, size=sample_size)  # Population 2 data\n",
    "t_statistic, p_value = conduct_t_test(population1, population2)"
   ]
  },
  {
   "cell_type": "code",
   "execution_count": 6,
   "id": "b26e814e-04f5-4650-be63-1488f7c3b768",
   "metadata": {},
   "outputs": [
    {
     "name": "stdout",
     "output_type": "stream",
     "text": [
      "T-statistic: 4.548288529457061\n",
      "P-value: 2.8073635785857308e-05\n"
     ]
    }
   ],
   "source": [
    "print(\"T-statistic:\", t_statistic)\n",
    "print(\"P-value:\", p_value)"
   ]
  },
  {
   "cell_type": "code",
   "execution_count": 7,
   "id": "63c18ff6-cd2c-4224-95ce-e64259c9b36f",
   "metadata": {},
   "outputs": [
    {
     "name": "stdout",
     "output_type": "stream",
     "text": [
      "The difference between population means is statistically significant (reject the null hypothesis).\n"
     ]
    }
   ],
   "source": [
    "alpha = 0.05\n",
    "if p_value < alpha:\n",
    "    print(\"The difference between population means is statistically significant (reject the null hypothesis).\")\n",
    "else:\n",
    "    print(\"The difference between population means is not statistically significant (fail to reject the null hypothesis).\")"
   ]
  },
  {
   "cell_type": "markdown",
   "id": "2eab3ac3-e12a-4f3e-98f2-389583ff60e0",
   "metadata": {},
   "source": [
    "# Q6: What is a null and alternative hypothesis? Give some examples."
   ]
  },
  {
   "cell_type": "markdown",
   "id": "35c9f299-b302-4f56-829e-cc36747241df",
   "metadata": {},
   "source": [
    "# Answer-6-In statistics, the null hypothesis (H0) and alternative hypothesis (H1)or(Ha) are statements used to formulate a hypothesis test and draw conclusions about a population based on sample data.\n",
    "\n",
    "# Null Hypothesis (H0):The null hypothesis represents the statement of no effect, no difference, or no relationship in the population. It typically assumes that there is no significant effect or relationship, and any observed differences are due to chance or random variation.\n",
    "# Example:H0: The mean exam score for a new teaching method is equal to the mean exam score for the traditional teaching method (new=traditionalμ new=μ traditional).\n",
    "# Alternative Hypothesis (H1)or (Ha):The alternative hypothesis contradicts the null hypothesis. It suggests that there is a significant effect, difference, or relationship in the population. It's what we are trying to provide evidence for.\n",
    "# Example:(H1): The mean exam score for a new teaching method is greater than the mean exam score for the traditional teaching method (new>traditional(μnew>μ traditional)."
   ]
  },
  {
   "cell_type": "markdown",
   "id": "b1bcbaac-6978-45eb-a837-85ac4b5d5dad",
   "metadata": {},
   "source": [
    "# Q7: Write down the steps involved in hypothesis testing."
   ]
  },
  {
   "cell_type": "markdown",
   "id": "59cbafa4-4325-4998-a30a-c95afdda3427",
   "metadata": {},
   "source": [
    "# Answer-7-Hypothesis testing is a systematic process used in statistics to make inferences about a population based on sample data. Here are the general steps involved in hypothesis testing:\n",
    "\n",
    "# Formulate the Hypotheses:Define the null hypothesis (H0) and the alternative hypothesis (H1)or (Ha) based on the research question or problem.\n",
    "# Collect and Prepare the Data:Obtain relevant data through experiments, surveys, or observations. Ensure the data is appropriately collected and cleaned for analysis.\n",
    "# Select the Significance Level (α):Choose a significance level (α), usually set at 0.05, which represents the maximum acceptable probability of a Type I error (rejecting the null hypothesis when it is true).\n",
    "# Choose the Appropriate Statistical Test:Select a suitable statistical test based on the type of data (e.g., t-test, chi-squared test, ANOVA) and the nature of the hypothesis (e.g., one-tailed or two-tailed).\n",
    "# Compute the Test Statistic:Calculate the appropriate test statistic based on the chosen statistical test and the data collected."
   ]
  },
  {
   "cell_type": "markdown",
   "id": "580c6484-c1eb-4832-a1b6-d4d8f08bbcc0",
   "metadata": {},
   "source": [
    "# Q8. Define p-value and explain its significance in hypothesis testing."
   ]
  },
  {
   "cell_type": "markdown",
   "id": "58d6d5ce-cc65-4006-8d17-5a60419efe90",
   "metadata": {},
   "source": [
    "# Answer-8-The p-value, or probability value, is a statistical measure used in hypothesis testing to determine the strength of evidence against the null hypothesis. In simpler terms, it represents the probability of obtaining observed results or more extreme results when the null hypothesis is true.\n",
    "\n",
    "# Here's a more detailed explanation of its significance in hypothesis testing:\n",
    "\n",
    "# Null Hypothesis (H0): In hypothesis testing, we start with a null hypothesis (H0), which typically represents the idea of no effect, no difference, or no relationship in the population. This is the hypothesis we aim to either accept or reject based on the evidence.\n",
    "\n",
    "# Alternative Hypothesis (H1 or Ha): This is the hypothesis that contradicts the null hypothesis, suggesting that there is a significant effect, difference, or relationship in the population.\n",
    "\n",
    "# Test Statistic: After collecting data, we calculate a test statistic based on the sample data and assumptions about the population. This statistic helps us assess how different our sample data is from what we would expect under the null hypothesis.\n",
    "\n",
    "# P-value Calculation: The p-value is the probability of obtaining the observed test statistic or a more extreme value if the null hypothesis is true. In other words, it indicates how likely we would see the observed data (or more extreme) if the null hypothesis were correct.\n",
    "\n",
    "# Comparing the P-value with Significance Level (α): We compare the calculated p-value with a predetermined significance level (α), often set at 0.05 (5%). If the p-value is less than or equal to α, we reject the null hypothesis in favor of the alternative hypothesis. If the p-value is greater than α, we fail to reject the null hypothesis."
   ]
  },
  {
   "cell_type": "markdown",
   "id": "81670da5-dc07-4873-84c5-037df185bf2e",
   "metadata": {},
   "source": [
    "# Q9. Generate a Student's t-distribution plot using Python's matplotlib library, with the degrees of freedom parameter set to 10."
   ]
  },
  {
   "cell_type": "markdown",
   "id": "40e3cecd-6149-42a5-b43d-5afc0cf4467f",
   "metadata": {},
   "source": [
    "# Answer-9-"
   ]
  },
  {
   "cell_type": "code",
   "execution_count": 1,
   "id": "eed8584f-4e11-45c4-ad59-1f3da55139dc",
   "metadata": {},
   "outputs": [
    {
     "name": "stdout",
     "output_type": "stream",
     "text": [
      "Requirement already satisfied: matplotlib in /opt/conda/lib/python3.10/site-packages (3.6.2)\n",
      "Requirement already satisfied: numpy in /opt/conda/lib/python3.10/site-packages (1.23.5)\n",
      "Requirement already satisfied: pyparsing>=2.2.1 in /opt/conda/lib/python3.10/site-packages (from matplotlib) (3.0.9)\n",
      "Requirement already satisfied: kiwisolver>=1.0.1 in /opt/conda/lib/python3.10/site-packages (from matplotlib) (1.4.4)\n",
      "Requirement already satisfied: contourpy>=1.0.1 in /opt/conda/lib/python3.10/site-packages (from matplotlib) (1.0.6)\n",
      "Requirement already satisfied: fonttools>=4.22.0 in /opt/conda/lib/python3.10/site-packages (from matplotlib) (4.38.0)\n",
      "Requirement already satisfied: packaging>=20.0 in /opt/conda/lib/python3.10/site-packages (from matplotlib) (22.0)\n",
      "Requirement already satisfied: python-dateutil>=2.7 in /opt/conda/lib/python3.10/site-packages (from matplotlib) (2.8.2)\n",
      "Requirement already satisfied: pillow>=6.2.0 in /opt/conda/lib/python3.10/site-packages (from matplotlib) (9.2.0)\n",
      "Requirement already satisfied: cycler>=0.10 in /opt/conda/lib/python3.10/site-packages (from matplotlib) (0.11.0)\n",
      "Requirement already satisfied: six>=1.5 in /opt/conda/lib/python3.10/site-packages (from python-dateutil>=2.7->matplotlib) (1.16.0)\n",
      "Note: you may need to restart the kernel to use updated packages.\n"
     ]
    }
   ],
   "source": [
    "pip install matplotlib numpy"
   ]
  },
  {
   "cell_type": "code",
   "execution_count": 2,
   "id": "660315a9-793c-4000-8c55-80ad09cdb331",
   "metadata": {},
   "outputs": [],
   "source": [
    "import numpy as np\n",
    "import matplotlib.pyplot as plt\n",
    "from scipy.stats import t"
   ]
  },
  {
   "cell_type": "code",
   "execution_count": 3,
   "id": "c3abcea1-0270-4535-ba93-1a23e033598e",
   "metadata": {},
   "outputs": [],
   "source": [
    "degrees_of_freedom = 10\n",
    "x = np.linspace(-5, 5, 400)\n",
    "y = t.pdf(x, degrees_of_freedom)"
   ]
  },
  {
   "cell_type": "code",
   "execution_count": 4,
   "id": "1885ec41-1233-4c66-a11c-17df36b7e7f2",
   "metadata": {},
   "outputs": [
    {
     "data": {
      "image/png": "[encoded data removed]",
      "text/plain": [
       "<Figure size 1000x600 with 1 Axes>"
      ]
     },
     "metadata": {},
     "output_type": "display_data"
    }
   ],
   "source": [
    "plt.figure(figsize=(10, 6))\n",
    "plt.plot(x, y, label=f'Student\\'s t-distribution (df={degrees_of_freedom})')\n",
    "plt.xlabel('x')\n",
    "plt.ylabel('Probability Density Function (PDF)')\n",
    "plt.title('Student\\'s t-distribution')\n",
    "plt.legend()\n",
    "plt.grid(True)\n",
    "plt.show()"
   ]
  },
  {
   "cell_type": "markdown",
   "id": "a06147e7-2050-4746-8da2-119375efffca",
   "metadata": {},
   "source": [
    "# Q10. Write a Python program to calculate the two-sample t-test for independent samples, given two random samples of equal size and a null hypothesis that the population means are equal."
   ]
  },
  {
   "cell_type": "markdown",
   "id": "bb76956a-435c-4469-b922-1f02ec735605",
   "metadata": {},
   "source": [
    "# Answer-10-"
   ]
  },
  {
   "cell_type": "code",
   "execution_count": 5,
   "id": "3aa425c3-b60a-4716-8666-c1380bf4a803",
   "metadata": {},
   "outputs": [],
   "source": [
    "from scipy import stats\n",
    "\n",
    "def two_sample_t_test(sample1, sample2):\n",
    "    mean1, mean2 = np.mean(sample1), np.mean(sample2)\n",
    "    std1, std2 = np.std(sample1, ddof=1), np.std(sample2, ddof=1)\n",
    "    \n",
    "    n1, n2 = len(sample1), len(sample2)\n",
    "    t_statistic = (mean1 - mean2) / np.sqrt((std1**2 / n1) + (std2**2 / n2))\n",
    "    \n",
    "    dof = n1 + n2 - 2\n",
    "    \n",
    "    p_value = 2 * (1 - stats.t.cdf(np.abs(t_statistic), dof))\n",
    "    \n",
    "    return t_statistic, p_value"
   ]
  },
  {
   "cell_type": "code",
   "execution_count": 6,
   "id": "130b1571-75db-43c2-abb9-bd4f60843572",
   "metadata": {},
   "outputs": [],
   "source": [
    "np.random.seed(0)  \n",
    "sample_size = 30\n",
    "sample1 = np.random.randn(sample_size)\n",
    "sample2 = np.random.randn(sample_size)\n",
    "t_statistic, p_value = two_sample_t_test(sample1, sample2)"
   ]
  },
  {
   "cell_type": "code",
   "execution_count": 7,
   "id": "50d9bd70-cf44-4322-ba69-1c2e24a0ab7b",
   "metadata": {},
   "outputs": [
    {
     "name": "stdout",
     "output_type": "stream",
     "text": [
      "Two-sample t-test results:\n",
      "t-statistic: 2.804041400098036\n",
      "p-value: 0.006854000433095031\n"
     ]
    }
   ],
   "source": [
    "print(\"Two-sample t-test results:\")\n",
    "print(\"t-statistic:\", t_statistic)\n",
    "print(\"p-value:\", p_value)"
   ]
  },
  {
   "cell_type": "markdown",
   "id": "d87895b1-61d6-410d-9b0a-8baf3fc40d85",
   "metadata": {},
   "source": [
    "# Q11: What is Student’s t distribution? When to use the t-Distribution."
   ]
  },
  {
   "cell_type": "markdown",
   "id": "ab8ced47-dc58-4750-8192-195544beaa9d",
   "metadata": {},
   "source": [
    "# Answer-11-Student's t-distribution, often referred to as the t-distribution, is a probability distribution that arises in the context of statistical inference. It's used to estimate population parameters when the sample size is small and/or when the population standard deviation is unknown.\n",
    "\n",
    "# Student’s t-Distribution:The t-distribution is similar in shape to the normal distribution but has heavier tails, making it more spread out. It is characterized by a parameter known as the degrees of freedom (df), which impacts the shape of the distribution. As the degrees of freedom increase, the t-distribution approaches the standard normal distribution.\n",
    "\n",
    "# When to Use the t-Distribution:Small Sample Sizes: When dealing with small sample sizes (typically when n < 30), the t-distribution is preferred for making inferences about the population mean.\n",
    "\n",
    "# Unknown Population Standard Deviation: When the population standard deviation is unknown and needs to be estimated from the sample, the t-distribution is used.\n",
    "\n",
    "# Inference about a Population Mean: The t-distribution is primarily used for conducting hypothesis tests and constructing confidence intervals for the population mean.\n",
    "\n",
    "# Paired Data: When comparing two sets of paired data (e.g., before and after treatment), the t-distribution can be used to analyze the differences.\n",
    "\n",
    "# Use Cases:Comparing Means: For comparing means of two samples or conducting a one-sample t-test to determine if a sample mean is significantly different from a known or hypothesized population mean.\n",
    "\n",
    "# Confidence Intervals: Constructing confidence intervals for the population mean, especially when the sample size is small or the population standard deviation is unknown.\n",
    "\n",
    "# Experimental Research: In experiments where sample sizes are limited and normality assumptions hold, the t-distribution is used for hypothesis testing and assessing treatment effects.\n",
    "\n",
    "# Quality Control: Analyzing process data and comparing it with a target value to evaluate if the process is within control."
   ]
  },
  {
   "cell_type": "markdown",
   "id": "fa5bf4d5-6b61-48f8-9603-a248bdaa94e7",
   "metadata": {},
   "source": [
    "# Q12: What is t-statistic? State the formula for t-statistic."
   ]
  },
  {
   "cell_type": "markdown",
   "id": "3b5089a4-0a77-4977-8c4b-05a2f866342a",
   "metadata": {},
   "source": [
    "# Answer-12-The t-statistic is a measure used in hypothesis testing to determine the significance of the difference between a sample mean and a population mean (or the difference between two sample means). It's a standardized measure that quantifies how many standard errors the sample mean is away from the assumed population mean under the null hypothesis."
   ]
  },
  {
   "cell_type": "code",
   "execution_count": 8,
   "id": "4b6e4659-fb1a-4f8d-a76e-474cf05fb8ca",
   "metadata": {},
   "outputs": [],
   "source": [
    "# one sample test"
   ]
  },
  {
   "cell_type": "code",
   "execution_count": 9,
   "id": "4eeb1550-258f-4623-b6bf-326edc6ef5df",
   "metadata": {},
   "outputs": [
    {
     "name": "stdout",
     "output_type": "stream",
     "text": [
      "One-Sample t-Test Statistic: 0.6933340941942099\n"
     ]
    }
   ],
   "source": [
    "import numpy as np\n",
    "\n",
    "def calculate_t_statistic_one_sample(sample, population_mean):\n",
    "    sample_mean = np.mean(sample)\n",
    "    sample_std = np.std(sample, ddof=1)  # ddof=1 for sample standard deviation\n",
    "    sample_size = len(sample)\n",
    "    \n",
    "    t_statistic = (sample_mean - population_mean) / (sample_std / np.sqrt(sample_size))\n",
    "    \n",
    "    return t_statistic\n",
    "\n",
    "# Example usage\n",
    "sample = [3.4, 4.2, 2.8, 3.9, 4.1]\n",
    "population_mean = 3.5\n",
    "t_statistic_one_sample = calculate_t_statistic_one_sample(sample, population_mean)\n",
    "print(\"One-Sample t-Test Statistic:\", t_statistic_one_sample)"
   ]
  },
  {
   "cell_type": "code",
   "execution_count": 10,
   "id": "870efbca-7d32-41eb-8913-bca36d5daebf",
   "metadata": {},
   "outputs": [],
   "source": [
    "# two sample test"
   ]
  },
  {
   "cell_type": "code",
   "execution_count": 11,
   "id": "e3146c1d-c1b2-4a92-8a9d-f4e5e577f4d7",
   "metadata": {},
   "outputs": [
    {
     "name": "stdout",
     "output_type": "stream",
     "text": [
      "Two-Sample t-Test Statistic: 1.464667674473647\n"
     ]
    }
   ],
   "source": [
    "import numpy as np\n",
    "\n",
    "def calculate_t_statistic_two_sample(sample1, sample2):\n",
    "    mean1, mean2 = np.mean(sample1), np.mean(sample2)\n",
    "    std1, std2 = np.std(sample1, ddof=1), np.std(sample2, ddof=1)\n",
    "    n1, n2 = len(sample1), len(sample2)\n",
    "    \n",
    "    t_statistic = (mean1 - mean2) / np.sqrt((std1**2 / n1) + (std2**2 / n2))\n",
    "    \n",
    "    return t_statistic\n",
    "\n",
    "# Example usage\n",
    "sample1 = [3.4, 4.2, 2.8, 3.9, 4.1]\n",
    "sample2 = [2.7, 3.5, 3.1, 2.9, 3.8]\n",
    "t_statistic_two_sample = calculate_t_statistic_two_sample(sample1, sample2)\n",
    "print(\"Two-Sample t-Test Statistic:\", t_statistic_two_sample)"
   ]
  },
  {
   "cell_type": "markdown",
   "id": "43bbb19e-7f08-4dab-a977-f4d1c8ff1579",
   "metadata": {},
   "source": [
    "# Q13. A coffee shop owner wants to estimate the average daily revenue for their shop. They take a random sample of 50 days and find the sample mean revenue to be $500 with a standard deviation of $50. Estimate the population mean revenue with a 95% confidence interval."
   ]
  },
  {
   "cell_type": "markdown",
   "id": "80231616-1b01-487f-8fc2-db9f48f89274",
   "metadata": {},
   "source": [
    "# Answer-13-"
   ]
  },
  {
   "cell_type": "code",
   "execution_count": 12,
   "id": "c6d8c817-6981-46e0-823a-fd12c1ea34c8",
   "metadata": {},
   "outputs": [
    {
     "name": "stdout",
     "output_type": "stream",
     "text": [
      "95% Confidence Interval for the Population Mean Revenue:\n",
      "Lower Bound: 486.14\n",
      "Upper Bound: 513.86\n"
     ]
    }
   ],
   "source": [
    "sample_mean = 500 \n",
    "sample_std = 50     \n",
    "sample_size = 50    \n",
    "confidence_level = 0.95\n",
    "z_score = 1.96\n",
    "\n",
    "margin_of_error = z_score * (sample_std / np.sqrt(sample_size))\n",
    "\n",
    "lower_bound = sample_mean - margin_of_error\n",
    "upper_bound = sample_mean + margin_of_error\n",
    "\n",
    "# Print the confidence interval\n",
    "print(\"95% Confidence Interval for the Population Mean Revenue:\")\n",
    "print(\"Lower Bound:\", round(lower_bound, 2))\n",
    "print(\"Upper Bound:\", round(upper_bound, 2))"
   ]
  },
  {
   "cell_type": "markdown",
   "id": "63fd47ef-b5d2-4eff-b4ab-cd6f4a67d5f3",
   "metadata": {},
   "source": [
    "# Q14. A researcher hypothesizes that a new drug will decrease blood pressure by 10 mmHg. They conduct a clinical trial with 100 patients and find that the sample mean decrease in blood pressure is 8 mmHg with a standard deviation of 3 mmHg. Test the hypothesis with a significance level of 0.05."
   ]
  },
  {
   "cell_type": "markdown",
   "id": "96a59745-1cc1-4923-8936-89d5dad2fec9",
   "metadata": {},
   "source": [
    "# answer-14-"
   ]
  },
  {
   "cell_type": "code",
   "execution_count": 13,
   "id": "09f29c9a-fe90-4ab9-a127-c001f783fbbd",
   "metadata": {},
   "outputs": [],
   "source": [
    "from scipy.stats import t\n",
    "\n",
    "sample_mean = 8  \n",
    "sample_std = 3    \n",
    "sample_size = 100  \n",
    "population_mean_hypothesized = 10  \n",
    "alpha = 0.05  \n",
    "\n",
    "t_statistic = (sample_mean - population_mean_hypothesized) / (sample_std / np.sqrt(sample_size))\n",
    "degrees_of_freedom = sample_size - 1\n",
    "\n",
    "critical_t_value = t.ppf(alpha, degrees_of_freedom)"
   ]
  },
  {
   "cell_type": "code",
   "execution_count": 15,
   "id": "6c9b3738-cbbd-44c6-997f-6c7a7436ea73",
   "metadata": {},
   "outputs": [
    {
     "name": "stdout",
     "output_type": "stream",
     "text": [
      "t-statistic: -6.666666666666667\n",
      "Critical t-value at alpha = 0.05: -1.6603911559963902\n",
      "The null hypothesis is rejected. The new drug decreases blood pressure.\n"
     ]
    }
   ],
   "source": [
    "print(\"t-statistic:\", t_statistic)\n",
    "print(\"Critical t-value at alpha = 0.05:\", critical_t_value)\n",
    "\n",
    "# Compare the t-statistic with the critical t-value\n",
    "if t_statistic < critical_t_value:\n",
    "    print(\"The null hypothesis is rejected. The new drug decreases blood pressure.\")\n",
    "else:\n",
    "    print(\"The null hypothesis is not rejected. The new drug does not significantly decrease blood pressure.\")"
   ]
  },
  {
   "cell_type": "markdown",
   "id": "f43c75d0-def1-4a50-92f1-a58d38ba80b2",
   "metadata": {},
   "source": [
    "# Q15. An electronics company produces a certain type of product with a mean weight of 5 pounds and a standard deviation of 0.5 pounds. A random sample of 25 products is taken, and the sample mean weight is found to be 4.8 pounds. Test the hypothesis that the true mean weight of the products is less than 5 pounds with a significance level of 0.01."
   ]
  },
  {
   "cell_type": "markdown",
   "id": "9b906924-9d77-4972-9dad-9f75e285700c",
   "metadata": {},
   "source": [
    "# Answer-15-"
   ]
  },
  {
   "cell_type": "code",
   "execution_count": 17,
   "id": "ed43f519-326b-41ff-bcb8-f22ac70f2435",
   "metadata": {},
   "outputs": [
    {
     "name": "stdout",
     "output_type": "stream",
     "text": [
      "t-statistic: -2.0000000000000018\n",
      "Critical t-value at alpha = 0.01: -2.4921594731575762\n",
      "The null hypothesis is not rejected. There is insufficient evidence to conclude that the true mean weight is less than 5 pounds.\n"
     ]
    }
   ],
   "source": [
    "from scipy.stats import t\n",
    "\n",
    "sample_mean = 4.8 \n",
    "sample_std = 0.5    \n",
    "sample_size = 25    \n",
    "population_mean_hypothesized = 5   \n",
    "alpha = 0.01  \n",
    "\n",
    "t_statistic = (sample_mean - population_mean_hypothesized) / (sample_std / np.sqrt(sample_size))\n",
    "\n",
    "degrees_of_freedom = sample_size - 1\n",
    "\n",
    "critical_t_value = t.ppf(alpha, degrees_of_freedom)\n",
    "\n",
    "print(\"t-statistic:\", t_statistic)\n",
    "print(\"Critical t-value at alpha = 0.01:\", critical_t_value)\n",
    "\n",
    "# Compare the t-statistic with the critical t-value\n",
    "if t_statistic < critical_t_value:\n",
    "    print(\"The null hypothesis is rejected. The true mean weight is less than 5 pounds.\")\n",
    "else:\n",
    "    print(\"The null hypothesis is not rejected. There is insufficient evidence to conclude that the true mean weight is less than 5 pounds.\")"
   ]
  },
  {
   "cell_type": "markdown",
   "id": "45a521c8-1fe4-4b40-8bea-940bfac839df",
   "metadata": {
    "tags": []
   },
   "source": [
    "# Q16. Two groups of students are given different study materials to prepare for a test. The first group (n1 =30) has a mean score of 80 with a standard deviation of 10, and the second group (n2 = 40) has a mean score of 75 with a standard deviation of 8. Test the hypothesis that the population means for the two groups are equal with a significance level of 0.01."
   ]
  },
  {
   "cell_type": "markdown",
   "id": "70d4be0d-7ba3-499d-bef6-9b5b92085e1a",
   "metadata": {},
   "source": [
    "# Answer-16-"
   ]
  },
  {
   "cell_type": "code",
   "execution_count": 19,
   "id": "8001686d-bea4-4f53-b3c4-de43c1fc883d",
   "metadata": {},
   "outputs": [
    {
     "name": "stdout",
     "output_type": "stream",
     "text": [
      "t-statistic: 2.2511258444537408\n",
      "Critical t-value at alpha = 0.01: 2.6500812928169553\n",
      "The null hypothesis is not rejected. There is insufficient evidence to conclude that the population means are not equal.\n"
     ]
    }
   ],
   "source": [
    "import numpy as np\n",
    "from scipy.stats import t\n",
    "\n",
    "sample_mean1 = 80  \n",
    "sample_std1 = 10    \n",
    "sample_size1 = 30    \n",
    "sample_mean2 = 75  \n",
    "sample_std2 = 8     \n",
    "sample_size2 = 40    \n",
    "alpha = 0.01\n",
    "\n",
    "t_statistic = (sample_mean1 - sample_mean2) / np.sqrt((sample_std1**2 / sample_size1) + (sample_std2**2 / sample_size2))\n",
    "\n",
    "degrees_of_freedom = sample_size1 + sample_size2 - 2\n",
    "\n",
    "critical_t_value = t.ppf(1 - alpha/2, degrees_of_freedom)\n",
    "\n",
    "print(\"t-statistic:\", t_statistic)\n",
    "print(\"Critical t-value at alpha = 0.01:\", critical_t_value)\n",
    "\n",
    "# Compare the t-statistic with the critical t-value\n",
    "if np.abs(t_statistic) > critical_t_value:\n",
    "    print(\"The null hypothesis is rejected. The population means are not equal.\")\n",
    "else:\n",
    "    print(\"The null hypothesis is not rejected. There is insufficient evidence to conclude that the population means are not equal.\")"
   ]
  },
  {
   "cell_type": "markdown",
   "id": "cea1bb27-031f-4cd7-a614-845d1402d3eb",
   "metadata": {},
   "source": [
    "# Q17. A marketing company wants to estimate the average number of ads watched by viewers during a TV program. They take a random sample of 50 viewers and find that the sample mean is 4 with a standard deviation of 1.5. Estimate the population mean with a 99% confidence interval."
   ]
  },
  {
   "cell_type": "markdown",
   "id": "fb6b5b94-83c2-41ee-8459-bb884934f659",
   "metadata": {},
   "source": [
    "# Answer-17-"
   ]
  },
  {
   "cell_type": "code",
   "execution_count": 20,
   "id": "0e4d54d0-e952-47d5-9123-bda6c527508e",
   "metadata": {},
   "outputs": [],
   "source": [
    "sample_mean = 4  \n",
    "sample_std = 1.5   \n",
    "sample_size = 50  \n",
    "confidence_level = 0.99\n",
    "\n",
    "z_score = 2.576\n",
    "\n",
    "margin_of_error = z_score * (sample_std / np.sqrt(sample_size))\n",
    "\n",
    "\n",
    "lower_bound = sample_mean - margin_of_error\n",
    "upper_bound = sample_mean + margin_of_error"
   ]
  },
  {
   "cell_type": "code",
   "execution_count": 21,
   "id": "296ef957-1747-4059-873a-93c5b761bbd8",
   "metadata": {},
   "outputs": [
    {
     "name": "stdout",
     "output_type": "stream",
     "text": [
      "99% Confidence Interval for the Population Mean:\n",
      "Lower Bound: 3.45\n",
      "Upper Bound: 4.55\n"
     ]
    }
   ],
   "source": [
    "print(\"99% Confidence Interval for the Population Mean:\")\n",
    "print(\"Lower Bound:\", round(lower_bound, 2))\n",
    "print(\"Upper Bound:\", round(upper_bound, 2))"
   ]
  },
  {
   "cell_type": "markdown",
   "id": "2f58170c-2892-40ae-b51f-e4f02f1c05f8",
   "metadata": {},
   "source": [
    "# Assignment Completed"
   ]
  }
 ],
 "metadata": {
  "kernelspec": {
   "display_name": "Python 3 (ipykernel)",
   "language": "python",
   "name": "python3"
  },
  "language_info": {
   "codemirror_mode": {
    "name": "ipython",
    "version": 3
   },
   "file_extension": ".py",
   "mimetype": "text/x-python",
   "name": "python",
   "nbconvert_exporter": "python",
   "pygments_lexer": "ipython3",
   "version": "3.10.8"
  }
 },
 "nbformat": 4,
 "nbformat_minor": 5
}
